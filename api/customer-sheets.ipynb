{
 "cells": [
  {
   "cell_type": "code",
   "execution_count": 121,
   "metadata": {},
   "outputs": [
    {
     "data": {
      "text/plain": [
       "<Order: Nigel Samplestock: rh4 1jj by Collect From Denbies Shop>"
      ]
     },
     "execution_count": 121,
     "metadata": {},
     "output_type": "execute_result"
    }
   ],
   "source": [
    "# Check cx to Django\n",
    "import os\n",
    "os.environ[\"DJANGO_ALLOW_ASYNC_UNSAFE\"] = \"true\"\n",
    "import django\n",
    "django.setup()\n",
    "\n",
    "from order.models import Order\n",
    "ord = Order.objects.first()\n",
    "ord"
   ]
  },
  {
   "cell_type": "code",
   "execution_count": 256,
   "metadata": {},
   "outputs": [],
   "source": [
    "from typing import List\n",
    "import pandas as pd\n",
    "import numpy as np\n",
    "from jinja2 import Environment, FileSystemLoader\n",
    "from weasyprint import HTML"
   ]
  },
  {
   "cell_type": "code",
   "execution_count": 120,
   "metadata": {},
   "outputs": [],
   "source": [
    "# 1 Sheet class with manual data frame creation\n",
    "# 2 Tutorial for creating PDF from dataframe https://pbpython.com/pdf-reports.html"
   ]
  },
  {
   "cell_type": "code",
   "execution_count": 260,
   "metadata": {},
   "outputs": [
    {
     "name": "stdout",
     "output_type": "stream",
     "text": [
      "None\n"
     ]
    }
   ],
   "source": [
    "class CustomerSheet():\n",
    "    \n",
    "    _cols: {}\n",
    "    _customer_headers: []\n",
    "    _product_headers: []\n",
    "        \n",
    "    def __init__(self):\n",
    "        self._cols = {}\n",
    "        self._cols['customer_headers'] = ('F-Number',)\n",
    "        \n",
    "    @property\n",
    "    def customer_headers(self) -> List:\n",
    "        self._customer_headers = []\n",
    "        return self._customer_headers\n",
    "    \n",
    "    @property\n",
    "    def headers(self) -> List:\n",
    "        '''Sheet headers comprising Order details and product names'''\n",
    "        headers = [self._customer_headers + self._product_headers]\n",
    "        return headers\n",
    "    \n",
    "    \n",
    "    def to_df(self):\n",
    "        df = pd.DataFrame([\n",
    "            # headers\n",
    "            ('F-Number','Customer First Name','Customer Last Name','Customer Postcode','Customer Address','Fulfillment Method','Fulfullment Date','', 'Brocoli' ,'Celery','Veg Bag','Total'),\n",
    "            # Pack size row\n",
    "            ('','','','','','','','Std Pack Size', '1','1','1',''),\n",
    "            # Current Price row\n",
    "            ('','','','','','','','Current Price', '£1.00','£1.30','£11.00',''),\n",
    "            ('20-1-001','Jon','Whittler','92, Long Acre, Dorking. Surrey.','RH4 1LD','DELIVERY','Fri 8 Jun 2020','Quantity', '1','2','1','5'),\n",
    "            # Pad out rows to force next output to new page\n",
    "            ('','','','','','', '','Cost','£1.00','£2.60','£11.00','£14.60'),\n",
    "            ('','','','','','', '','','','','',''),\n",
    "            ('','','','','','', '','','','','',''),\n",
    "            ('','','','','','', '','','','','',''),\n",
    "            ('','','','','','', '','','','','',''),\n",
    "\n",
    "        ])\n",
    "        df_transposed = df.transpose()\n",
    "#         return df\n",
    "        return df_transposed\n",
    "    \n",
    "    def save_xlsx(self, path='./generated_customer.xlsx'):\n",
    "        df_output = self.to_df()\n",
    "        writer = pd.ExcelWriter(path, engine='xlsxwriter')\n",
    "        sheet_name='CUSTOMER'\n",
    "        df_output.to_excel(writer, sheet_name=sheet_name)\n",
    "        workbook = writer.book\n",
    "        worksheet = writer.sheets[sheet_name]\n",
    "        worksheet.set_zoom(60)\n",
    "        # Add a format. Green fill with dark green text.\n",
    "        format2 = workbook.add_format({'bg_color': '#C6EFCE',\n",
    "                                    'font_color': '#006100'})\n",
    "        writer.save()\n",
    "        \n",
    "    \n",
    "cs = CustomerSheet()\n",
    "print(cs.save_xlsx())"
   ]
  },
  {
   "cell_type": "code",
   "execution_count": 271,
   "metadata": {},
   "outputs": [],
   "source": [
    "# 2 Pandas to PDF tutorial using Jinja\n",
    "df = cs.to_df()\n",
    "from pandas.core.frame import DataFrame\n",
    "assert isinstance(df,DataFrame)\n",
    "\n",
    "\n",
    "# 2.1 create a template\n",
    "# 2.2 Add variables to the templates context\n",
    "# 2.3 render the template into HTML\n",
    "\n",
    "env = Environment(loader=FileSystemLoader('.'))\n",
    "template = env.get_template(\"customer_sheet.html\")\n",
    "template_vars = {\"title\" : \"Farmbox Customer Sheet\",\n",
    "                 \"customer_sheet\": df.to_html()}\n",
    "html_out = template.render(template_vars)\n",
    "HTML(string=html_out).write_pdf(\"customer_sheet.pdf\", stylesheets=[\"style.css\", \"customer_sheet.css\"])\n",
    "# print(html_out)"
   ]
  }
 ],
 "metadata": {
  "kernelspec": {
   "display_name": "Python 3.6.9 64-bit ('venv': venv)",
   "language": "python",
   "name": "python36964bitvenvvenv7b7808cb8d7b43d2821cbb1f50565830"
  },
  "language_info": {
   "codemirror_mode": {
    "name": "ipython",
    "version": 3
   },
   "file_extension": ".py",
   "mimetype": "text/x-python",
   "name": "python",
   "nbconvert_exporter": "python",
   "pygments_lexer": "ipython3",
   "version": "3.8.0"
  }
 },
 "nbformat": 4,
 "nbformat_minor": 4
}
