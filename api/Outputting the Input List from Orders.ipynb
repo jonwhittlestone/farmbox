{
 "cells": [
  {
   "cell_type": "code",
   "execution_count": 1,
   "metadata": {},
   "outputs": [],
   "source": [
    "\n",
    "'''\n",
    "    0. Initialise with cols list of lists (list of columns)\n",
    "    COLUMN\n",
    "    1. Create list for headers from Order field names\n",
    "    2. Add to the list, with product header items\n",
    "    3. create list for customer details\n",
    "    4. On the same list index, append product counts for that customer\n",
    "    5. Total row\n",
    "    6. formatting\n",
    "'''\n",
    "import os\n",
    "os.environ[\"DJANGO_ALLOW_ASYNC_UNSAFE\"] = \"true\"\n"
   ]
  },
  {
   "cell_type": "code",
   "execution_count": 2,
   "metadata": {},
   "outputs": [],
   "source": [
    "# 0. Cols is to be the eventual list of lists\n",
    "cols = []"
   ]
  },
  {
   "cell_type": "code",
   "execution_count": 3,
   "metadata": {},
   "outputs": [],
   "source": [
    "# 1. Create list for headers from Order field names\n",
    "import pandas as pd\n",
    "from collections import OrderedDict\n",
    "from order.models import Order\n",
    "\n",
    "# Customer Headers Name, Address, Postcode, Email etc\n",
    "headers = []\n",
    "verbose_field_names = []\n",
    "order_fields = ['customer_name','customer_address', 'customer_postcode', 'customer_email','customer_phone', 'fulfillment_method', 'collection_location','notes']\n",
    "\n",
    "for h in order_fields:\n",
    "    verbose_field_names.append(Order._meta.get_field(h).verbose_name)\n",
    "\n"
   ]
  },
  {
   "cell_type": "code",
   "execution_count": 40,
   "metadata": {},
   "outputs": [],
   "source": [
    "# 2. Add to the list, with product header items\n",
    "from product.models import Product\n",
    "\n",
    "qs = Product.objects.filter(published=True)\n",
    "product_names = list(qs.values_list('name', flat=True))\n",
    "product_ids = list(qs.values_list('id', flat=True))\n",
    "\n",
    "ids_names = list(qs.values('id','name'))\n",
    "\n",
    "product_names = [ p.get('name') for p in ids_names]\n",
    "product_ids = [ p.get('id') for p in ids_names]\n"
   ]
  },
  {
   "cell_type": "code",
   "execution_count": 41,
   "metadata": {},
   "outputs": [],
   "source": [
    "# 3. create list for customer details\n",
    "import os\n",
    "os.environ[\"DJANGO_ALLOW_ASYNC_UNSAFE\"] = \"true\"\n",
    "f_event_id = 2\n",
    "qs = Order.objects.filter(fulfillment_event_id=f_event_id)\n",
    "fields = qs.values_list(*order_fields)\n",
    "\n",
    "cols = [verbose_field_names + product_names]\n",
    "for obj, cust_order_fields in zip(qs,fields):\n",
    "    customer_order_product_counts = tuple([obj.product_count(p_id) for p_id in product_ids])\n",
    "    cols.append(cust_order_fields + customer_order_product_counts)\n",
    "    "
   ]
  },
  {
   "cell_type": "code",
   "execution_count": 42,
   "metadata": {},
   "outputs": [],
   "source": [
    "# Convert multidimensional array to dataframe via transposing\n",
    "\n",
    "df = pd.DataFrame(cols)\n",
    "output = df.transpose()\n"
   ]
  },
  {
   "cell_type": "code",
   "execution_count": 43,
   "metadata": {},
   "outputs": [],
   "source": [
    "# Write xlsx to disk\n",
    "import xlsxwriter\n",
    "\n",
    "\n",
    "# Create a Pandas Excel writer using XlsxWriter as the engine.\n",
    "# Saved to api/input.xlsx\n",
    "writer = pd.ExcelWriter('input.xlsx', engine='xlsxwriter')\n",
    "\n",
    "# Convert the dataframe to an XlsxWriter Excel object.\n",
    "output.to_excel(writer, sheet_name='Sheet1')\n",
    "\n",
    "# Close the Pandas Excel writer and output the Excel file.\n",
    "writer.save()"
   ]
  },
  {
   "cell_type": "code",
   "execution_count": 8,
   "metadata": {},
   "outputs": [],
   "source": [
    "# Format the xlsx by removing row 1 and col A\n",
    "\n",
    "# Row 1 height for Address needs to be 5x the size\n",
    "\n",
    "# non-header columns need to have border lines"
   ]
  },
  {
   "cell_type": "code",
   "execution_count": null,
   "metadata": {},
   "outputs": [],
   "source": []
  }
 ],
 "metadata": {
  "kernelspec": {
   "display_name": "Django Shell-Plus",
   "language": "python",
   "name": "django_extensions"
  },
  "language_info": {
   "codemirror_mode": {
    "name": "ipython",
    "version": 3
   },
   "file_extension": ".py",
   "mimetype": "text/x-python",
   "name": "python",
   "nbconvert_exporter": "python",
   "pygments_lexer": "ipython3",
   "version": "3.6.9"
  }
 },
 "nbformat": 4,
 "nbformat_minor": 4
}
