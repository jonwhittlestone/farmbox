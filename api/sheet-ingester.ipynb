{
 "cells": [
  {
   "cell_type": "code",
   "execution_count": 1,
   "metadata": {},
   "outputs": [],
   "source": [
    "import os\n",
    "os.environ[\"DJANGO_ALLOW_ASYNC_UNSAFE\"] = \"true\"\n",
    "\n",
    "# 1. Create new Model OrderForm\n",
    "# 2. Insert new OrderForm record\n",
    "# 3. Read file from hardcoded location\n",
    "# 4. Use Openpyxl to extract order details\n",
    "# 5. Use Openpyxl to extract product count for order\n",
    "# 6. Create new Order model\n",
    "# 7. Any exceptions because of failed validation, create new record in OrderFormReaderException\n"
   ]
  },
  {
   "cell_type": "code",
   "execution_count": 2,
   "metadata": {},
   "outputs": [
    {
     "data": {
      "text/plain": [
       "'/home/jon/code/playground/farmbox/api/order/sample-order-v070420.xlsx'"
      ]
     },
     "execution_count": 2,
     "metadata": {},
     "output_type": "execute_result"
    }
   ],
   "source": [
    "# 0. Setup\n",
    "import os\n",
    "import json\n",
    "from pathlib import Path\n",
    "import sys\n",
    "from openpyxl import load_workbook\n",
    "from django.conf import settings\n",
    "\n",
    "filename = 'sample-order-v070420.xlsx'\n",
    "django_project_relative_path = os.path.join('order',filename)\n",
    "xlsx_file = os.path.join(settings.PROJECT_DIR,django_project_relative_path)\n",
    "xlsx_file"
   ]
  },
  {
   "cell_type": "code",
   "execution_count": 3,
   "metadata": {},
   "outputs": [],
   "source": [
    "# 1. Create the OrderForm instance\n",
    "from django.utils import timezone\n",
    "from order.models import OrderForm, FulfillmentEvent\n",
    "\n",
    "f_event = FulfillmentEvent.objects.last()\n",
    "\n",
    "frm = OrderForm(filename=filename, fulfillment_event=f_event, created_at=timezone.now())\n",
    "frm.save()\n"
   ]
  },
  {
   "cell_type": "code",
   "execution_count": 4,
   "metadata": {},
   "outputs": [],
   "source": [
    "# Read XLSX file\n",
    "workbook = load_workbook(filename=xlsx_file, read_only=True)\n",
    "worksheet = workbook.active\n",
    "excel_data = list(worksheet.rows)\n",
    "# print(excel_data)"
   ]
  },
  {
   "cell_type": "code",
   "execution_count": 5,
   "metadata": {},
   "outputs": [
    {
     "data": {
      "text/plain": [
       "{'': None,\n",
       " 'customer_name': 'Nigel Samplestock',\n",
       " 'customer_address': '107, Fairfield Drive',\n",
       " 'customer_postcode': 'rh4 1jj',\n",
       " 'customer_email': 'Dev-farmbox99@howapped.com',\n",
       " 'fulfillment_method': '0789 449 542',\n",
       " 'collection_method': 'Collection',\n",
       " 'fulfillment_event__target_date': 'Denbies'}"
      ]
     },
     "execution_count": 5,
     "metadata": {},
     "output_type": "execute_result"
    }
   ],
   "source": [
    "# 4. Crudely capture the order details\n",
    "order_details_column = 'C'\n",
    "order_detail_cells ={\n",
    "    'C2' : 'customer_name',\n",
    "    'C3': 'customer_address',\n",
    "    'C4': 'customer_postcode',\n",
    "    'C5': 'customer_email',\n",
    "    'C6': 'fulfillment_method',\n",
    "    'C7': 'collection_method',\n",
    "    'C8': 'fulfillment_event__target_date'\n",
    "}\n",
    "captured_order_details = {}\n",
    "for row in excel_data:\n",
    "    for cell in row:\n",
    "        try:\n",
    "            captured_order_details[order_detail_cells.get(cell.coordinate,'')] = cell.internal_value\n",
    "#             print(order_detail_cells.get(cell.coordinate,''))\n",
    "        except Exception:\n",
    "            pass\n",
    "\n",
    "captured_order_details"
   ]
  },
  {
   "cell_type": "code",
   "execution_count": 26,
   "metadata": {},
   "outputs": [
    {
     "name": "stdout",
     "output_type": "stream",
     "text": [
      "{'Village Greens Veg Bag : Large': 1, 'Village Greens Veg Bag : Medium': None, 'Village Greens Veg Bag : Small': None, 'Fine green beans': None, 'Broccoli': None, 'Butternut Squash': 1, 'Cabbage Hispi': None, 'Cabbage Savoy': None, 'Cabbage Red': None, 'Carrots : loose washed': None, 'Cauliflower': None}\n"
     ]
    }
   ],
   "source": [
    "# 5. Capture the products and desired count\n",
    "\n",
    "# captured_product_counts = {\n",
    "#     'Village Greens Veg Bag : Medium' : 1,\n",
    "#     'Butternut Squash' : 1\n",
    "# }\n",
    "from product.models import Product\n",
    "captured_product_counts = {}\n",
    "product_name_column = 'A'\n",
    "product_count_column = 'C'\n",
    "\n",
    "# get list of product names\n",
    "products = list(Product.objects.values_list('name',flat=True))\n",
    "products_rows = []\n",
    "# print(products)\n",
    "\n",
    "\n",
    "\n",
    "# first pass to capture all cell.row where there are valid products\n",
    "for row in excel_data:\n",
    "    for cell in row:\n",
    "        if cell.value == None:\n",
    "            break\n",
    "        if cell.column_letter == product_name_column and cell.internal_value in products:\n",
    "            products_rows.append(row)\n",
    "#             continue 2\n",
    "                \n",
    "                \n",
    "for row in products_rows:\n",
    "    for cell in row:\n",
    "        if cell.column_letter == product_name_column:\n",
    "            key = cell.internal_value\n",
    "        if cell.column_letter == product_count_column:\n",
    "            value = cell.internal_value\n",
    "        captured_product_counts[key] = value\n",
    "# print(captured_product_counts)\n",
    "\n",
    "# loop over rows to capture where count is not zero\n",
    "\n",
    "print(captured_product_counts)\n"
   ]
  },
  {
   "cell_type": "code",
   "execution_count": null,
   "metadata": {},
   "outputs": [],
   "source": [
    "# Create order model with m2m products\n",
    "\n",
    "# If there's an exception, create instance `OrderFormReaderException'"
   ]
  }
 ],
 "metadata": {
  "kernelspec": {
   "display_name": "Django Shell-Plus",
   "language": "python",
   "name": "django_extensions"
  },
  "language_info": {
   "codemirror_mode": {
    "name": "ipython",
    "version": 3
   },
   "file_extension": ".py",
   "mimetype": "text/x-python",
   "name": "python",
   "nbconvert_exporter": "python",
   "pygments_lexer": "ipython3",
   "version": "3.6.9"
  }
 },
 "nbformat": 4,
 "nbformat_minor": 4
}
